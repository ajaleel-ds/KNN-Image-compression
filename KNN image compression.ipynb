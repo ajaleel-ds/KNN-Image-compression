{
 "cells": [
  {
   "cell_type": "code",
   "execution_count": null,
   "metadata": {},
   "outputs": [],
   "source": [
    "import sys, pandas as pd, numpy as np, matplotlib.pyplot as plt, skimage, os, math, time\n",
    "from skimage import io, data\n",
    "from datetime import timedelta\n",
    "from PIL import Image"
   ]
  },
  {
   "cell_type": "code",
   "execution_count": null,
   "metadata": {},
   "outputs": [],
   "source": [
    "def show_img(p):\n",
    "    # Path to images\n",
    "    filename = os.path.join(os.getcwd()+'/data', p)\n",
    "    # Loading image via nparray\n",
    "    image = skimage.io.imread(filename)\n",
    "    return(image)"
   ]
  },
  {
   "cell_type": "code",
   "execution_count": null,
   "metadata": {},
   "outputs": [],
   "source": [
    "def get_clstrd_image(k, p, ca = 0):\n",
    "    # Reshaping the image\n",
    "    filename = os.path.join(os.getcwd() + '/data', p)\n",
    "    image = skimage.io.imread(filename)\n",
    "    pixels = image.reshape((image.shape[0]*image.shape[1],image.shape[2]))\n",
    "    pixels = pixels.astype(np.float64)\n",
    "\n",
    "    # Randomly choosing cluster centers\n",
    "    centroids = pixels[np.random.randint(pixels.shape[0], size=(1, k))[0], :]\n",
    "\n",
    "\n",
    "    clas = np.empty([pixels.shape[0], centroids.shape[0]], dtype = np.float64)\n",
    "    i = 0\n",
    "    converged = False\n",
    "    start = time.time()\n",
    "    \n",
    "    while converged == False:\n",
    "        i += 1\n",
    "        pt_1 = np.sum(pixels**2,axis=1)[:,np.newaxis]\n",
    "        pt_2 = np.sum(centroids**2, axis=1)\n",
    "        pt_3 = -2 * np.dot(pixels,centroids.T)\n",
    "        S = pt_1+pt_2+pt_3\n",
    "        clas = np.ceil(np.sqrt(np.abs(pt_1+pt_2+pt_3)))\n",
    "\n",
    "        # class is assigned as clstr_assignment, as class is a function\n",
    "        clstr_assignment = np.argmin(clas, axis = 1)\n",
    "\n",
    "        # Updating Cluster location(s)\n",
    "        centroids_old = centroids.copy()\n",
    "        c_a = [[i] for i in clstr_assignment]\n",
    "        image_2_ca = np.append(pixels, c_a, axis = 1)\n",
    "\n",
    "        for cntrd in range(0, centroids.shape[0]):\n",
    "            centroids[cntrd] = np.ceil(np.sum(image_2_ca[image_2_ca[:,-1] == cntrd][:,:image_2_ca.shape[1]-1], axis = 0) / len(image_2_ca[image_2_ca[:,-1] == cntrd][:,-1]))\n",
    "\n",
    "        if (centroids_old == centroids).all() == True:\n",
    "            converged = True\n",
    "\n",
    "\n",
    "    if ca == 1:\n",
    "        return (clstr_assignment, centroids)\n",
    "    \n",
    "    else:\n",
    "        end = time.time()\n",
    "        Delta = end - start\n",
    "        Elapsed=str(timedelta(seconds=Delta)) \n",
    "        print('cluster of k = {} converged at {} iterations, and took {} seconds'.format(k,i, Elapsed))\n",
    "        # Updating each datapoint to its respective Centroid value\n",
    "        image_2_cac = image_2_ca.copy()\n",
    "        for i in range(0,image_2_ca.shape[0]):\n",
    "            image_2_cac[i][:-1] = centroids[int(image_2_cac[i][-1])]\n",
    "        image_2_cac = image_2_cac[:,:-1]\n",
    "        final = np.reshape(image_2_cac, (image.shape[0],image.shape[1],image.shape[2]), order=\"C\")\n",
    "        final = final.astype(dtype='uint8')\n",
    "        # Final image \n",
    "        img = Image.fromarray(final, 'RGB')\n",
    "        return (img)"
   ]
  },
  {
   "cell_type": "code",
   "execution_count": null,
   "metadata": {},
   "outputs": [],
   "source": [
    "def get_compressed_imgs():\n",
    "    for p in ['GeorgiaTech.bmp','football.bmp','foliage.jpg']:\n",
    "        #Showing Original\n",
    "        fig, ax = plt.subplots(figsize=(7, 7))\n",
    "        ax.imshow(show_img(p = p))\n",
    "        ax.set_title('Original')\n",
    "        plt.show()\n",
    "        # Setting up plot size\n",
    "        fig, ax = plt.subplots(2,2,figsize=(9, 9))\n",
    "        # Function to load the image on plot \n",
    "        ax[0,0].imshow(get_clstrd_image(k=2, p = p, ca = 0))\n",
    "        ax[0,0].set_title('K=2')\n",
    "        ax[0,1].imshow(get_clstrd_image(k=4, p = p, ca = 0))\n",
    "        ax[0,1].set_title('K=4')\n",
    "        ax[1,0].imshow(get_clstrd_image(k=8, p = p, ca = 0))\n",
    "        ax[1,0].set_title('K=8')\n",
    "        ax[1,1].imshow(get_clstrd_image(k=16, p = p, ca = 0))\n",
    "        ax[1,1].set_title('K=16')\n",
    "    fig.tight_layout()\n",
    "    plt.show()"
   ]
  },
  {
   "cell_type": "code",
   "execution_count": null,
   "metadata": {
    "scrolled": false
   },
   "outputs": [],
   "source": [
    "get_compressed_imgs()"
   ]
  }
 ],
 "metadata": {
  "kernelspec": {
   "display_name": "Python 3",
   "language": "python",
   "name": "python3"
  },
  "language_info": {
   "codemirror_mode": {
    "name": "ipython",
    "version": 3
   },
   "file_extension": ".py",
   "mimetype": "text/x-python",
   "name": "python",
   "nbconvert_exporter": "python",
   "pygments_lexer": "ipython3",
   "version": "3.8.8"
  }
 },
 "nbformat": 4,
 "nbformat_minor": 4
}
